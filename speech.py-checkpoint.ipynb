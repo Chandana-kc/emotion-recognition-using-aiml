{
 "cells": [
  {
   "cell_type": "code",
   "execution_count": null,
   "id": "47d7c19f",
   "metadata": {},
   "outputs": [],
   "source": [
    "import speech_recognition as sr\n",
    "from textblob import TextBlob\n",
    "\n",
    "# Initialize the recognizer\n",
    "r = sr.Recognizer()\n",
    "\n",
    "# Function to perform emotion detection on recognized speech\n",
    "def detect_emotion(text):\n",
    "    blob = TextBlob(text)\n",
    "    sentiment = blob.sentiment.polarity\n",
    "\n",
    "    if sentiment > 0:\n",
    "        return \"Positive\"\n",
    "    elif sentiment < 0:\n",
    "        return \"Negative\"\n",
    "    else:\n",
    "        return \"Neutral\"\n",
    "\n",
    "# Function to listen and recognize speech in real-time\n",
    "def listen():\n",
    "    with sr.Microphone() as source:\n",
    "        print(\"Listening...\")\n",
    "\n",
    "        # Adjust the ambient noise threshold if necessary\n",
    "        r.adjust_for_ambient_noise(source)\n",
    "\n",
    "        # Continuously listen to the microphone\n",
    "        while True:\n",
    "            audio = r.listen(source)\n",
    "\n",
    "            try:\n",
    "                # Perform speech recognition\n",
    "                text = r.recognize_google(audio)\n",
    "                print(\"You said:\", text)\n",
    "\n",
    "                # Perform emotion detection\n",
    "                emotion = detect_emotion(text)\n",
    "                print(\"Emotion:\", emotion)\n",
    "            except sr.UnknownValueError:\n",
    "                print(\"Unable to recognize speech\")\n",
    "            except sr.RequestError as e:\n",
    "                print(\"Could not request results from Google Speech Recognition service; {0}\".format(e))\n",
    "\n",
    "# Call the function to start real-time speech recognition\n",
    "listen()"
   ]
  }
 ],
 "metadata": {
  "kernelspec": {
   "display_name": "Python 3 (ipykernel)",
   "language": "python",
   "name": "python3"
  },
  "language_info": {
   "codemirror_mode": {
    "name": "ipython",
    "version": 3
   },
   "file_extension": ".py",
   "mimetype": "text/x-python",
   "name": "python",
   "nbconvert_exporter": "python",
   "pygments_lexer": "ipython3",
   "version": "3.10.9"
  }
 },
 "nbformat": 4,
 "nbformat_minor": 5
}
